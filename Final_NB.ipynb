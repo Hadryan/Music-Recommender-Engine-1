{
 "cells": [
  {
   "cell_type": "markdown",
   "metadata": {},
   "source": [
    "# Music recommender "
   ]
  },
  {
   "cell_type": "markdown",
   "metadata": {},
   "source": [
    "### Data cleaning and examination"
   ]
  },
  {
   "cell_type": "code",
   "execution_count": 2,
   "metadata": {},
   "outputs": [],
   "source": [
    "#import necessary packages\n",
    "import pandas as pd\n",
    "import numpy as np\n",
    "import seaborn as sns\n",
    "import matplotlib.pyplot as plt\n",
    "%matplotlib inline\n",
    "import sklearn\n",
    "import re\n",
    "import csv\n",
    "from sklearn.metrics.pairwise import cosine_similarity\n",
    "from sklearn.metrics.pairwise import linear_kernel"
   ]
  },
  {
   "cell_type": "code",
   "execution_count": 3,
   "metadata": {},
   "outputs": [],
   "source": [
    "#load data\n",
    "df=pd.read_csv('/Users/jeffreyng/Music_Rec_Engine/Music-Recommender-Engine/output-data.csv')"
   ]
  },
  {
   "cell_type": "code",
   "execution_count": 256,
   "metadata": {},
   "outputs": [
    {
     "data": {
      "text/plain": [
       "Neil Young               27\n",
       "Bonnie “Prince” Billy    22\n",
       "Animal Collective        21\n",
       "Guided by Voices         20\n",
       "David Bowie              19\n",
       "                         ..\n",
       "Shad                      1\n",
       "Feeding People            1\n",
       "Illangelo                 1\n",
       "John Luther Adams         1\n",
       "Bear Vs. Shark            1\n",
       "Name: artist, Length: 9049, dtype: int64"
      ]
     },
     "execution_count": 256,
     "metadata": {},
     "output_type": "execute_result"
    }
   ],
   "source": [
    "#looking at data\n",
    "df.artist.value_counts()"
   ]
  },
  {
   "cell_type": "code",
   "execution_count": 5,
   "metadata": {},
   "outputs": [],
   "source": [
    "#replace nan with misc.\n",
    "df.genre.replace(np.nan, 'Misc', inplace=True)"
   ]
  },
  {
   "cell_type": "code",
   "execution_count": 6,
   "metadata": {},
   "outputs": [
    {
     "data": {
      "text/plain": [
       "Rock            6879\n",
       "Electronic      3659\n",
       "Experimental    1669\n",
       "Rap             1644\n",
       "Pop/R&B         1298\n",
       "Misc            1289\n",
       "Metal            762\n",
       "Folk/Country     748\n",
       "Jazz             282\n",
       "Global           162\n",
       "none              11\n",
       "Name: genre, dtype: int64"
      ]
     },
     "execution_count": 6,
     "metadata": {},
     "output_type": "execute_result"
    }
   ],
   "source": [
    "#looking at genre breakdown\n",
    "df.genre.value_counts()"
   ]
  },
  {
   "cell_type": "markdown",
   "metadata": {},
   "source": [
    "### Now we will build our rec engine"
   ]
  },
  {
   "cell_type": "code",
   "execution_count": 1,
   "metadata": {},
   "outputs": [],
   "source": [
    "#importing surprise package\n",
    "import surprise"
   ]
  },
  {
   "cell_type": "code",
   "execution_count": 257,
   "metadata": {},
   "outputs": [],
   "source": [
    "#making our data \n",
    "from surprise import Dataset, Reader\n",
    "reader= Reader()\n",
    "data = Dataset.load_from_df(df[['artist','album', 'score']], reader)"
   ]
  },
  {
   "cell_type": "code",
   "execution_count": null,
   "metadata": {},
   "outputs": [],
   "source": []
  },
  {
   "cell_type": "code",
   "execution_count": 258,
   "metadata": {},
   "outputs": [],
   "source": [
    "#TTS\n",
    "from surprise.model_selection import train_test_split\n",
    "\n",
    "trainset, testset = train_test_split(data, test_size=0.25)"
   ]
  },
  {
   "cell_type": "code",
   "execution_count": 259,
   "metadata": {},
   "outputs": [
    {
     "data": {
      "text/plain": [
       "<surprise.prediction_algorithms.matrix_factorization.SVD at 0x7fa9085ec970>"
      ]
     },
     "execution_count": 259,
     "metadata": {},
     "output_type": "execute_result"
    }
   ],
   "source": [
    "#using SVD algo and fitting train data\n",
    "from surprise import SVD, accuracy\n",
    "algo = SVD()\n",
    "algo.fit(trainset)"
   ]
  },
  {
   "cell_type": "code",
   "execution_count": 260,
   "metadata": {},
   "outputs": [],
   "source": [
    "#making predictions on test_Set\n",
    "predictions = algo.test(testset)"
   ]
  },
  {
   "cell_type": "code",
   "execution_count": 261,
   "metadata": {},
   "outputs": [
    {
     "name": "stdout",
     "output_type": "stream",
     "text": [
      "RMSE: 2.3843\n"
     ]
    },
    {
     "data": {
      "text/plain": [
       "2.384302609782183"
      ]
     },
     "execution_count": 261,
     "metadata": {},
     "output_type": "execute_result"
    }
   ],
   "source": [
    "# getting RMSE \n",
    "from surprise import accuracy\n",
    "accuracy.rmse(predictions)"
   ]
  },
  {
   "cell_type": "code",
   "execution_count": 288,
   "metadata": {},
   "outputs": [
    {
     "data": {
      "text/plain": [
       "Prediction(uid='DAWN', iid='Blackheart', r_ui=8.0, est=5, details={'was_impossible': False})"
      ]
     },
     "execution_count": 288,
     "metadata": {},
     "output_type": "execute_result"
    }
   ],
   "source": [
    "#looking at predictions data\n",
    "predictions[:][:][3]"
   ]
  },
  {
   "cell_type": "code",
   "execution_count": 263,
   "metadata": {},
   "outputs": [
    {
     "data": {
      "text/plain": [
       "Prediction(uid='Larkin Grimm', iid='Parplar', r_ui=5.2, est=5, details={'was_impossible': False})"
      ]
     },
     "execution_count": 263,
     "metadata": {},
     "output_type": "execute_result"
    }
   ],
   "source": [
    "predictions[:][:][1]"
   ]
  },
  {
   "cell_type": "code",
   "execution_count": 264,
   "metadata": {},
   "outputs": [],
   "source": [
    "#converting predictions into a df\n",
    "df1= pd.DataFrame(predictions[:])"
   ]
  },
  {
   "cell_type": "code",
   "execution_count": 338,
   "metadata": {},
   "outputs": [
    {
     "data": {
      "text/plain": [
       "uid                   Beat Happening\n",
       "iid                      Look Around\n",
       "r_ui                             8.2\n",
       "est                                5\n",
       "details    {'was_impossible': False}\n",
       "Name: 2779, dtype: object"
      ]
     },
     "execution_count": 338,
     "metadata": {},
     "output_type": "execute_result"
    }
   ],
   "source": [
    "df1.loc[2779]"
   ]
  },
  {
   "cell_type": "code",
   "execution_count": 347,
   "metadata": {},
   "outputs": [],
   "source": [
    "#function that pulls in an album name and returns top 10 similar albums indices \n",
    "def rec_album():\n",
    "    y=df1.loc[df1['uid'] == 'Beat Happening'] #we enter our album name here\n",
    "    container=[]\n",
    "    for ele in df1.r_ui:\n",
    "        container.append(abs(int(y.r_ui - ele))) #looking at album ratings difference between prediction and actual \n",
    "        #finding the most similar\n",
    "        \n",
    "    sim= pd.Series(container) #converting list of albums into series\n",
    "    sorted_sim= sim.sort_values()[0:10] #sorting series and returning top 10\n",
    "    print(sorted_sim) #printout\n",
    "    return sorted_sim #top ten sorted\n"
   ]
  },
  {
   "cell_type": "code",
   "execution_count": 349,
   "metadata": {},
   "outputs": [
    {
     "name": "stdout",
     "output_type": "stream",
     "text": [
      "1246    0\n",
      "1646    0\n",
      "3087    0\n",
      "3685    0\n",
      "3684    0\n",
      "1650    0\n",
      "3682    0\n",
      "1653    0\n",
      "1654    0\n",
      "1655    0\n",
      "dtype: int64\n"
     ]
    },
    {
     "data": {
      "text/plain": [
       "1246    0\n",
       "1646    0\n",
       "3087    0\n",
       "3685    0\n",
       "3684    0\n",
       "1650    0\n",
       "3682    0\n",
       "1653    0\n",
       "1654    0\n",
       "1655    0\n",
       "dtype: int64"
      ]
     },
     "execution_count": 349,
     "metadata": {},
     "output_type": "execute_result"
    }
   ],
   "source": [
    "# returning album indices of recommended albums to 'Beat Happening'\n",
    "rec_album()\n",
    "# we can then use df1.loc[index] to find our actual album"
   ]
  },
  {
   "cell_type": "code",
   "execution_count": null,
   "metadata": {},
   "outputs": [],
   "source": []
  },
  {
   "cell_type": "code",
   "execution_count": null,
   "metadata": {},
   "outputs": [],
   "source": []
  }
 ],
 "metadata": {
  "kernelspec": {
   "display_name": "Python 3",
   "language": "python",
   "name": "python3"
  },
  "language_info": {
   "codemirror_mode": {
    "name": "ipython",
    "version": 3
   },
   "file_extension": ".py",
   "mimetype": "text/x-python",
   "name": "python",
   "nbconvert_exporter": "python",
   "pygments_lexer": "ipython3",
   "version": "3.8.8"
  }
 },
 "nbformat": 4,
 "nbformat_minor": 4
}
