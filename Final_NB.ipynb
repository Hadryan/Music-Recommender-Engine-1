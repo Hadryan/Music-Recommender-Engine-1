{
 "cells": [
  {
   "cell_type": "markdown",
   "metadata": {},
   "source": [
    "# Music recommender (Item Based Collaborative Filtering Engine)"
   ]
  },
  {
   "cell_type": "markdown",
   "metadata": {},
   "source": [
    "### Data cleaning and examination"
   ]
  },
  {
   "cell_type": "code",
   "execution_count": 1,
   "metadata": {},
   "outputs": [],
   "source": [
    "#import necessary packages\n",
    "import pandas as pd\n",
    "import numpy as np\n",
    "import seaborn as sns\n",
    "import matplotlib.pyplot as plt\n",
    "%matplotlib inline\n",
    "import sklearn\n",
    "import re\n",
    "import csv\n",
    "from sklearn.metrics.pairwise import cosine_similarity\n",
    "from sklearn.metrics.pairwise import linear_kernel"
   ]
  },
  {
   "cell_type": "code",
   "execution_count": 2,
   "metadata": {},
   "outputs": [],
   "source": [
    "#load data\n",
    "df=pd.read_csv('/Users/jeffreyng/Music_Rec_Engine/Music-Recommender-Engine/output-data.csv')"
   ]
  },
  {
   "cell_type": "code",
   "execution_count": 3,
   "metadata": {},
   "outputs": [
    {
     "data": {
      "text/plain": [
       "Neil Young               27\n",
       "Bonnie “Prince” Billy    22\n",
       "Animal Collective        21\n",
       "Guided by Voices         20\n",
       "David Bowie              19\n",
       "Gucci Mane               19\n",
       "Prince                   18\n",
       "Of Montreal              17\n",
       "Brian Eno                17\n",
       "R.E.M.                   17\n",
       "The Beatles              17\n",
       "Lil Wayne                17\n",
       "The Mountain Goats       16\n",
       "Deerhoof                 16\n",
       "Sonic Youth              16\n",
       "Mogwai                   16\n",
       "Robert Pollard           16\n",
       "Future                   15\n",
       "Stereolab                15\n",
       "The Fall                 15\n",
       "Name: artist, dtype: int64"
      ]
     },
     "execution_count": 3,
     "metadata": {},
     "output_type": "execute_result"
    }
   ],
   "source": [
    "#looking at data\n",
    "df.artist.value_counts()[0:20]"
   ]
  },
  {
   "cell_type": "code",
   "execution_count": 4,
   "metadata": {},
   "outputs": [],
   "source": [
    "#replace nan with misc.\n",
    "df.genre.replace(np.nan, 'Misc', inplace=True)"
   ]
  },
  {
   "cell_type": "code",
   "execution_count": 5,
   "metadata": {},
   "outputs": [
    {
     "data": {
      "text/plain": [
       "Rock            6879\n",
       "Electronic      3659\n",
       "Experimental    1669\n",
       "Rap             1644\n",
       "Pop/R&B         1298\n",
       "Misc            1289\n",
       "Metal            762\n",
       "Folk/Country     748\n",
       "Jazz             282\n",
       "Global           162\n",
       "none              11\n",
       "Name: genre, dtype: int64"
      ]
     },
     "execution_count": 5,
     "metadata": {},
     "output_type": "execute_result"
    }
   ],
   "source": [
    "#looking at genre breakdown\n",
    "df.genre.value_counts()"
   ]
  },
  {
   "cell_type": "code",
   "execution_count": 6,
   "metadata": {},
   "outputs": [],
   "source": [
    "#replacing None with Misc \n",
    "df.genre.replace('none', 'Misc', inplace=True)"
   ]
  },
  {
   "cell_type": "code",
   "execution_count": 131,
   "metadata": {},
   "outputs": [
    {
     "data": {
      "text/plain": [
       "Text(0.5, 1.0, 'Genres of Albums in Dataset')"
      ]
     },
     "execution_count": 131,
     "metadata": {},
     "output_type": "execute_result"
    },
    {
     "data": {
      "image/png": "[encoded data removed]",
      "text/plain": [
       "<Figure size 432x288 with 1 Axes>"
      ]
     },
     "metadata": {
      "needs_background": "light"
     },
     "output_type": "display_data"
    }
   ],
   "source": [
    "#preliminary EDA showing genres in data\n",
    "sns.countplot(x=df.genre, orient= 'h')\n",
    "plt.xticks(rotation=70)\n",
    "plt.title('Genres of Albums in Dataset')\n",
    "# plt.savefig('genres_of_albums.png')"
   ]
  },
  {
   "cell_type": "code",
   "execution_count": 9,
   "metadata": {},
   "outputs": [
    {
     "data": {
      "image/png": "[encoded data removed]",
      "text/plain": [
       "<Figure size 432x288 with 1 Axes>"
      ]
     },
     "metadata": {
      "needs_background": "light"
     },
     "output_type": "display_data"
    }
   ],
   "source": [
    "#showing rating data\n",
    "sns.histplot(data=df.score)\n",
    "plt.title('Scores of Albums in Dataset')\n",
    "# plt.savefig('scores_of_albums.png')"
   ]
  },
  {
   "cell_type": "code",
   "execution_count": null,
   "metadata": {},
   "outputs": [],
   "source": []
  },
  {
   "cell_type": "markdown",
   "metadata": {},
   "source": [
    "### Now we will build our rec engine"
   ]
  },
  {
   "cell_type": "code",
   "execution_count": 11,
   "metadata": {},
   "outputs": [],
   "source": [
    "#importing surprise package\n",
    "import surprise"
   ]
  },
  {
   "cell_type": "code",
   "execution_count": 115,
   "metadata": {},
   "outputs": [],
   "source": [
    "#making our data \n",
    "from surprise import Dataset, Reader\n",
    "reader= Reader(rating_scale=(1, 10))\n",
    "data = Dataset.load_from_df(df[['artist','album', 'score']], reader)"
   ]
  },
  {
   "cell_type": "code",
   "execution_count": null,
   "metadata": {},
   "outputs": [],
   "source": []
  },
  {
   "cell_type": "code",
   "execution_count": 116,
   "metadata": {},
   "outputs": [],
   "source": [
    "#TTS\n",
    "from surprise.model_selection import train_test_split\n",
    "\n",
    "trainset, testset = train_test_split(data, test_size=0.25)"
   ]
  },
  {
   "cell_type": "code",
   "execution_count": 117,
   "metadata": {},
   "outputs": [
    {
     "data": {
      "text/plain": [
       "<surprise.prediction_algorithms.matrix_factorization.SVD at 0x17a321160>"
      ]
     },
     "execution_count": 117,
     "metadata": {},
     "output_type": "execute_result"
    }
   ],
   "source": [
    "#using SVD algo and fitting train data\n",
    "from surprise import SVD, accuracy\n",
    "algo = SVD()\n",
    "algo.fit(trainset)"
   ]
  },
  {
   "cell_type": "code",
   "execution_count": 118,
   "metadata": {},
   "outputs": [],
   "source": [
    "#making predictions on test_Set\n",
    "predictions = algo.test(testset)"
   ]
  },
  {
   "cell_type": "code",
   "execution_count": 119,
   "metadata": {},
   "outputs": [
    {
     "name": "stdout",
     "output_type": "stream",
     "text": [
      "RMSE: 1.2117\n"
     ]
    },
    {
     "data": {
      "text/plain": [
       "1.2116736922976643"
      ]
     },
     "execution_count": 119,
     "metadata": {},
     "output_type": "execute_result"
    }
   ],
   "source": [
    "# getting RMSE \n",
    "from surprise import accuracy\n",
    "accuracy.rmse(predictions)"
   ]
  },
  {
   "cell_type": "code",
   "execution_count": 120,
   "metadata": {},
   "outputs": [
    {
     "data": {
      "text/plain": [
       "Prediction(uid='Blur', iid='The Magic Whip', r_ui=7.0, est=7.679449634551391, details={'was_impossible': False})"
      ]
     },
     "execution_count": 120,
     "metadata": {},
     "output_type": "execute_result"
    }
   ],
   "source": [
    "#looking at predictions data\n",
    "predictions[:][:][3]"
   ]
  },
  {
   "cell_type": "code",
   "execution_count": 121,
   "metadata": {},
   "outputs": [
    {
     "data": {
      "text/plain": [
       "Prediction(uid='Snoop Dogg', iid='Doggumentary', r_ui=5.5, est=6.651534499441084, details={'was_impossible': False})"
      ]
     },
     "execution_count": 121,
     "metadata": {},
     "output_type": "execute_result"
    }
   ],
   "source": [
    "predictions[:][:][1]"
   ]
  },
  {
   "cell_type": "code",
   "execution_count": 122,
   "metadata": {},
   "outputs": [],
   "source": [
    "#converting predictions into a df\n",
    "df1= pd.DataFrame(predictions[:])"
   ]
  },
  {
   "cell_type": "code",
   "execution_count": 123,
   "metadata": {},
   "outputs": [
    {
     "data": {
      "text/plain": [
       "uid                   Ellie Goulding\n",
       "iid                           Lights\n",
       "r_ui                             6.8\n",
       "est                         6.999477\n",
       "details    {'was_impossible': False}\n",
       "Name: 2779, dtype: object"
      ]
     },
     "execution_count": 123,
     "metadata": {},
     "output_type": "execute_result"
    }
   ],
   "source": [
    "df1.loc[2779]"
   ]
  },
  {
   "cell_type": "code",
   "execution_count": 128,
   "metadata": {},
   "outputs": [],
   "source": [
    "#function that pulls in an album name and returns top 10 similar albums indices \n",
    "def rec_album():\n",
    "    y=df1.loc[df1['iid'] == 'Lights'] #we enter our album name here\n",
    "    container=[]\n",
    "    for ele in list(df1.r_ui):\n",
    "        container.append(abs(int(y.r_ui) - ele)) #looking at album ratings difference between prediction and actual \n",
    "        #finding the most similar\n",
    "        \n",
    "    sim= pd.Series(container) #converting list of albums into series\n",
    "    sorted_sim= sim.sort_values()[0:10] #sorting series and returning top 10\n",
    "    print(sorted_sim) #printout\n",
    "    return sorted_sim #top ten sorted\n"
   ]
  },
  {
   "cell_type": "code",
   "execution_count": 129,
   "metadata": {},
   "outputs": [
    {
     "name": "stdout",
     "output_type": "stream",
     "text": [
      "0       0.0\n",
      "2106    0.0\n",
      "2107    0.0\n",
      "147     0.0\n",
      "152     0.0\n",
      "584     0.0\n",
      "165     0.0\n",
      "567     0.0\n",
      "2768    0.0\n",
      "972     0.0\n",
      "dtype: float64\n"
     ]
    },
    {
     "data": {
      "text/plain": [
       "0       0.0\n",
       "2106    0.0\n",
       "2107    0.0\n",
       "147     0.0\n",
       "152     0.0\n",
       "584     0.0\n",
       "165     0.0\n",
       "567     0.0\n",
       "2768    0.0\n",
       "972     0.0\n",
       "dtype: float64"
      ]
     },
     "execution_count": 129,
     "metadata": {},
     "output_type": "execute_result"
    }
   ],
   "source": [
    "# returning album indices of recommended albums to 'Beat Happening'\n",
    "rec_album()\n",
    "# we can then use df1.loc[index] to find our actual album"
   ]
  },
  {
   "cell_type": "code",
   "execution_count": 130,
   "metadata": {},
   "outputs": [
    {
     "data": {
      "text/plain": [
       "uid                     Gang of Four\n",
       "iid                  Return the Gift\n",
       "r_ui                             6.0\n",
       "est                         7.081541\n",
       "details    {'was_impossible': False}\n",
       "Name: 2106, dtype: object"
      ]
     },
     "execution_count": 130,
     "metadata": {},
     "output_type": "execute_result"
    }
   ],
   "source": [
    "df1.loc[2106]"
   ]
  },
  {
   "cell_type": "code",
   "execution_count": null,
   "metadata": {},
   "outputs": [],
   "source": []
  }
 ],
 "metadata": {
  "kernelspec": {
   "display_name": "Python 3 (ipykernel)",
   "language": "python",
   "name": "python3"
  },
  "language_info": {
   "codemirror_mode": {
    "name": "ipython",
    "version": 3
   },
   "file_extension": ".py",
   "mimetype": "text/x-python",
   "name": "python",
   "nbconvert_exporter": "python",
   "pygments_lexer": "ipython3",
   "version": "3.9.7"
  }
 },
 "nbformat": 4,
 "nbformat_minor": 4
}
