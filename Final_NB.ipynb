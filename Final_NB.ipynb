{
 "cells": [
  {
   "cell_type": "markdown",
   "metadata": {},
   "source": [
    "# Music recommender (Item Based Collaborative Filtering Engine)"
   ]
  },
  {
   "cell_type": "markdown",
   "metadata": {},
   "source": [
    "### Data cleaning and examination"
   ]
  },
  {
   "cell_type": "code",
   "execution_count": 2,
   "metadata": {},
   "outputs": [],
   "source": [
    "#import necessary packages\n",
    "import pandas as pd\n",
    "import numpy as np\n",
    "import seaborn as sns\n",
    "import matplotlib.pyplot as plt\n",
    "%matplotlib inline\n",
    "import sklearn\n",
    "import re\n",
    "import csv\n",
    "from sklearn.metrics.pairwise import cosine_similarity\n",
    "from sklearn.metrics.pairwise import linear_kernel"
   ]
  },
  {
   "cell_type": "code",
   "execution_count": 3,
   "metadata": {},
   "outputs": [],
   "source": [
    "#load data\n",
    "df=pd.read_csv('/Users/jeffreyng/Music_Rec_Engine/Music-Recommender-Engine/output-data.csv')"
   ]
  },
  {
   "cell_type": "code",
   "execution_count": 403,
   "metadata": {},
   "outputs": [
    {
     "data": {
      "text/plain": [
       "Neil Young               27\n",
       "Bonnie “Prince” Billy    22\n",
       "Animal Collective        21\n",
       "Guided by Voices         20\n",
       "David Bowie              19\n",
       "Gucci Mane               19\n",
       "Prince                   18\n",
       "Brian Eno                17\n",
       "The Beatles              17\n",
       "Lil Wayne                17\n",
       "Of Montreal              17\n",
       "R.E.M.                   17\n",
       "The Mountain Goats       16\n",
       "Robert Pollard           16\n",
       "Sonic Youth              16\n",
       "Deerhoof                 16\n",
       "Mogwai                   16\n",
       "Xiu Xiu                  15\n",
       "Yo La Tengo              15\n",
       "The Fall                 15\n",
       "Name: artist, dtype: int64"
      ]
     },
     "execution_count": 403,
     "metadata": {},
     "output_type": "execute_result"
    }
   ],
   "source": [
    "#looking at data\n",
    "df.artist.value_counts()[0:20]"
   ]
  },
  {
   "cell_type": "code",
   "execution_count": 5,
   "metadata": {},
   "outputs": [],
   "source": [
    "#replace nan with misc.\n",
    "df.genre.replace(np.nan, 'Misc', inplace=True)"
   ]
  },
  {
   "cell_type": "code",
   "execution_count": 365,
   "metadata": {},
   "outputs": [
    {
     "data": {
      "text/plain": [
       "Rock            6879\n",
       "Electronic      3659\n",
       "Experimental    1669\n",
       "Rap             1644\n",
       "Pop/R&B         1298\n",
       "Misc            1289\n",
       "Metal            762\n",
       "Folk/Country     748\n",
       "Jazz             282\n",
       "Global           162\n",
       "none              11\n",
       "Name: genre, dtype: int64"
      ]
     },
     "execution_count": 365,
     "metadata": {},
     "output_type": "execute_result"
    }
   ],
   "source": [
    "#looking at genre breakdown\n",
    "df.genre.value_counts()"
   ]
  },
  {
   "cell_type": "code",
   "execution_count": 408,
   "metadata": {},
   "outputs": [],
   "source": [
    "df.genre.replace('None', 'Misc', inplace=True)"
   ]
  },
  {
   "cell_type": "code",
   "execution_count": 409,
   "metadata": {},
   "outputs": [
    {
     "data": {
      "image/png": "[encoded data removed]",
      "text/plain": [
       "<Figure size 432x288 with 1 Axes>"
      ]
     },
     "metadata": {
      "needs_background": "light"
     },
     "output_type": "display_data"
    }
   ],
   "source": [
    "\n",
    "sns.countplot(x=df.genre, orient= 'h')\n",
    "plt.xticks(rotation=70)\n",
    "plt.title('Genres of Albums in Dataset')\n",
    "plt.savefig('genres_of_albums.png')"
   ]
  },
  {
   "cell_type": "code",
   "execution_count": 376,
   "metadata": {},
   "outputs": [
    {
     "data": {
      "text/html": [
       "<div>\n",
       "<style scoped>\n",
       "    .dataframe tbody tr th:only-of-type {\n",
       "        vertical-align: middle;\n",
       "    }\n",
       "\n",
       "    .dataframe tbody tr th {\n",
       "        vertical-align: top;\n",
       "    }\n",
       "\n",
       "    .dataframe thead th {\n",
       "        text-align: right;\n",
       "    }\n",
       "</style>\n",
       "<table border=\"1\" class=\"dataframe\">\n",
       "  <thead>\n",
       "    <tr style=\"text-align: right;\">\n",
       "      <th></th>\n",
       "      <th>artist</th>\n",
       "      <th>album</th>\n",
       "      <th>reviewauthor</th>\n",
       "      <th>score</th>\n",
       "      <th>releaseyear</th>\n",
       "      <th>reviewdate</th>\n",
       "      <th>recordlabel</th>\n",
       "      <th>genre</th>\n",
       "      <th>danceability</th>\n",
       "      <th>energy</th>\n",
       "      <th>key</th>\n",
       "      <th>loudness</th>\n",
       "      <th>speechiness</th>\n",
       "      <th>acousticness</th>\n",
       "      <th>instrumentalness</th>\n",
       "      <th>liveness</th>\n",
       "      <th>valence</th>\n",
       "      <th>tempo</th>\n",
       "    </tr>\n",
       "  </thead>\n",
       "  <tbody>\n",
       "    <tr>\n",
       "      <th>0</th>\n",
       "      <td>Studio 1</td>\n",
       "      <td>Studio 1</td>\n",
       "      <td>Andy Battaglia</td>\n",
       "      <td>8.5</td>\n",
       "      <td>2009.0</td>\n",
       "      <td>February 18 2009</td>\n",
       "      <td>Studio</td>\n",
       "      <td>Electronic</td>\n",
       "      <td>0.511917</td>\n",
       "      <td>0.499667</td>\n",
       "      <td>5.250000</td>\n",
       "      <td>-5.626583</td>\n",
       "      <td>0.031983</td>\n",
       "      <td>0.724917</td>\n",
       "      <td>0.024493</td>\n",
       "      <td>0.165367</td>\n",
       "      <td>0.555083</td>\n",
       "      <td>101.395167</td>\n",
       "    </tr>\n",
       "    <tr>\n",
       "      <th>1</th>\n",
       "      <td>John Fahey</td>\n",
       "      <td>The Great Santa Barbara Oil Slick</td>\n",
       "      <td>Mark Richardson</td>\n",
       "      <td>8.2</td>\n",
       "      <td>2005.0</td>\n",
       "      <td>February 13 2005</td>\n",
       "      <td>Water</td>\n",
       "      <td>Folk/Country</td>\n",
       "      <td>0.369765</td>\n",
       "      <td>0.325412</td>\n",
       "      <td>4.470588</td>\n",
       "      <td>-19.153824</td>\n",
       "      <td>0.148624</td>\n",
       "      <td>0.647053</td>\n",
       "      <td>0.559133</td>\n",
       "      <td>0.527782</td>\n",
       "      <td>0.179465</td>\n",
       "      <td>107.622647</td>\n",
       "    </tr>\n",
       "    <tr>\n",
       "      <th>2</th>\n",
       "      <td>Reigning Sound</td>\n",
       "      <td>Too Much Guitar</td>\n",
       "      <td>Stephen M. Deusner</td>\n",
       "      <td>8.3</td>\n",
       "      <td>2004.0</td>\n",
       "      <td>August 19 2004</td>\n",
       "      <td>In the Red</td>\n",
       "      <td>Electronic</td>\n",
       "      <td>0.253943</td>\n",
       "      <td>0.912857</td>\n",
       "      <td>4.428571</td>\n",
       "      <td>-1.089500</td>\n",
       "      <td>0.055500</td>\n",
       "      <td>0.000253</td>\n",
       "      <td>0.751214</td>\n",
       "      <td>0.199071</td>\n",
       "      <td>0.552786</td>\n",
       "      <td>133.895500</td>\n",
       "    </tr>\n",
       "    <tr>\n",
       "      <th>3</th>\n",
       "      <td>The Red Thread</td>\n",
       "      <td>After the Last</td>\n",
       "      <td>Chris Dahlen</td>\n",
       "      <td>7.3</td>\n",
       "      <td>2003.0</td>\n",
       "      <td>July 17 2003</td>\n",
       "      <td>Badman</td>\n",
       "      <td>Rock</td>\n",
       "      <td>0.425400</td>\n",
       "      <td>0.433474</td>\n",
       "      <td>5.700000</td>\n",
       "      <td>-12.871000</td>\n",
       "      <td>0.028260</td>\n",
       "      <td>0.310325</td>\n",
       "      <td>0.224137</td>\n",
       "      <td>0.125150</td>\n",
       "      <td>0.451400</td>\n",
       "      <td>104.354200</td>\n",
       "    </tr>\n",
       "    <tr>\n",
       "      <th>4</th>\n",
       "      <td>Mac Miller</td>\n",
       "      <td>Swimming</td>\n",
       "      <td>Evan Rytlewski</td>\n",
       "      <td>7.5</td>\n",
       "      <td>2018.0</td>\n",
       "      <td>August 3 2018</td>\n",
       "      <td>Warner Bros.</td>\n",
       "      <td>Rap</td>\n",
       "      <td>0.624846</td>\n",
       "      <td>0.438154</td>\n",
       "      <td>4.153846</td>\n",
       "      <td>-9.456077</td>\n",
       "      <td>0.170246</td>\n",
       "      <td>0.652462</td>\n",
       "      <td>0.012819</td>\n",
       "      <td>0.121131</td>\n",
       "      <td>0.281138</td>\n",
       "      <td>122.121308</td>\n",
       "    </tr>\n",
       "    <tr>\n",
       "      <th>...</th>\n",
       "      <td>...</td>\n",
       "      <td>...</td>\n",
       "      <td>...</td>\n",
       "      <td>...</td>\n",
       "      <td>...</td>\n",
       "      <td>...</td>\n",
       "      <td>...</td>\n",
       "      <td>...</td>\n",
       "      <td>...</td>\n",
       "      <td>...</td>\n",
       "      <td>...</td>\n",
       "      <td>...</td>\n",
       "      <td>...</td>\n",
       "      <td>...</td>\n",
       "      <td>...</td>\n",
       "      <td>...</td>\n",
       "      <td>...</td>\n",
       "      <td>...</td>\n",
       "    </tr>\n",
       "    <tr>\n",
       "      <th>18398</th>\n",
       "      <td>DJ Khaled</td>\n",
       "      <td>Father of Asahd</td>\n",
       "      <td>Rawiya Kameir</td>\n",
       "      <td>5.4</td>\n",
       "      <td>2019.0</td>\n",
       "      <td>May 22 2019</td>\n",
       "      <td>none</td>\n",
       "      <td>Rap</td>\n",
       "      <td>0.530733</td>\n",
       "      <td>0.763000</td>\n",
       "      <td>5.600000</td>\n",
       "      <td>-4.037933</td>\n",
       "      <td>0.260833</td>\n",
       "      <td>0.138597</td>\n",
       "      <td>0.000002</td>\n",
       "      <td>0.286033</td>\n",
       "      <td>0.465000</td>\n",
       "      <td>109.981200</td>\n",
       "    </tr>\n",
       "    <tr>\n",
       "      <th>18399</th>\n",
       "      <td>Interpol</td>\n",
       "      <td>A Fine Mess EP</td>\n",
       "      <td>Brian Josephs</td>\n",
       "      <td>5.6</td>\n",
       "      <td>2019.0</td>\n",
       "      <td>May 22 2019</td>\n",
       "      <td>none</td>\n",
       "      <td>Rock</td>\n",
       "      <td>0.481000</td>\n",
       "      <td>0.938800</td>\n",
       "      <td>2.600000</td>\n",
       "      <td>-1.761400</td>\n",
       "      <td>0.054260</td>\n",
       "      <td>0.000563</td>\n",
       "      <td>0.699800</td>\n",
       "      <td>0.202380</td>\n",
       "      <td>0.522800</td>\n",
       "      <td>124.184800</td>\n",
       "    </tr>\n",
       "    <tr>\n",
       "      <th>18400</th>\n",
       "      <td>Injury Reserve</td>\n",
       "      <td>Injury Reserve</td>\n",
       "      <td>Sheldon Pearce</td>\n",
       "      <td>6.8</td>\n",
       "      <td>2019.0</td>\n",
       "      <td>May 22 2019</td>\n",
       "      <td>none</td>\n",
       "      <td>Rap</td>\n",
       "      <td>0.559615</td>\n",
       "      <td>0.709538</td>\n",
       "      <td>5.769231</td>\n",
       "      <td>-6.205846</td>\n",
       "      <td>0.346485</td>\n",
       "      <td>0.182031</td>\n",
       "      <td>0.000229</td>\n",
       "      <td>0.259154</td>\n",
       "      <td>0.559154</td>\n",
       "      <td>106.885769</td>\n",
       "    </tr>\n",
       "    <tr>\n",
       "      <th>18401</th>\n",
       "      <td>Operators</td>\n",
       "      <td>Radiant Dawn</td>\n",
       "      <td>Stuart Berman</td>\n",
       "      <td>7.7</td>\n",
       "      <td>2019.0</td>\n",
       "      <td>May 22 2019</td>\n",
       "      <td>none</td>\n",
       "      <td>Rock</td>\n",
       "      <td>0.575929</td>\n",
       "      <td>0.693429</td>\n",
       "      <td>5.071429</td>\n",
       "      <td>-9.977714</td>\n",
       "      <td>0.058193</td>\n",
       "      <td>0.171626</td>\n",
       "      <td>0.192718</td>\n",
       "      <td>0.260207</td>\n",
       "      <td>0.417579</td>\n",
       "      <td>124.177214</td>\n",
       "    </tr>\n",
       "    <tr>\n",
       "      <th>18402</th>\n",
       "      <td>Slowthai</td>\n",
       "      <td>Nothing Great About Britain</td>\n",
       "      <td>Jazz Monroe</td>\n",
       "      <td>8.4</td>\n",
       "      <td>2019.0</td>\n",
       "      <td>May 21 2019</td>\n",
       "      <td>none</td>\n",
       "      <td>Rap</td>\n",
       "      <td>0.685000</td>\n",
       "      <td>0.707176</td>\n",
       "      <td>4.470588</td>\n",
       "      <td>-6.512118</td>\n",
       "      <td>0.335035</td>\n",
       "      <td>0.203241</td>\n",
       "      <td>0.000007</td>\n",
       "      <td>0.199035</td>\n",
       "      <td>0.486588</td>\n",
       "      <td>121.439000</td>\n",
       "    </tr>\n",
       "  </tbody>\n",
       "</table>\n",
       "<p>18403 rows × 18 columns</p>\n",
       "</div>"
      ],
      "text/plain": [
       "               artist                              album        reviewauthor  \\\n",
       "0            Studio 1                           Studio 1      Andy Battaglia   \n",
       "1          John Fahey  The Great Santa Barbara Oil Slick     Mark Richardson   \n",
       "2      Reigning Sound                    Too Much Guitar  Stephen M. Deusner   \n",
       "3      The Red Thread                     After the Last        Chris Dahlen   \n",
       "4          Mac Miller                           Swimming      Evan Rytlewski   \n",
       "...               ...                                ...                 ...   \n",
       "18398       DJ Khaled                    Father of Asahd       Rawiya Kameir   \n",
       "18399        Interpol                     A Fine Mess EP       Brian Josephs   \n",
       "18400  Injury Reserve                     Injury Reserve      Sheldon Pearce   \n",
       "18401       Operators                       Radiant Dawn       Stuart Berman   \n",
       "18402        Slowthai        Nothing Great About Britain         Jazz Monroe   \n",
       "\n",
       "       score  releaseyear        reviewdate   recordlabel         genre  \\\n",
       "0        8.5       2009.0  February 18 2009        Studio    Electronic   \n",
       "1        8.2       2005.0  February 13 2005         Water  Folk/Country   \n",
       "2        8.3       2004.0    August 19 2004    In the Red    Electronic   \n",
       "3        7.3       2003.0      July 17 2003        Badman          Rock   \n",
       "4        7.5       2018.0     August 3 2018  Warner Bros.           Rap   \n",
       "...      ...          ...               ...           ...           ...   \n",
       "18398    5.4       2019.0       May 22 2019          none           Rap   \n",
       "18399    5.6       2019.0       May 22 2019          none          Rock   \n",
       "18400    6.8       2019.0       May 22 2019          none           Rap   \n",
       "18401    7.7       2019.0       May 22 2019          none          Rock   \n",
       "18402    8.4       2019.0       May 21 2019          none           Rap   \n",
       "\n",
       "       danceability    energy       key   loudness  speechiness  acousticness  \\\n",
       "0          0.511917  0.499667  5.250000  -5.626583     0.031983      0.724917   \n",
       "1          0.369765  0.325412  4.470588 -19.153824     0.148624      0.647053   \n",
       "2          0.253943  0.912857  4.428571  -1.089500     0.055500      0.000253   \n",
       "3          0.425400  0.433474  5.700000 -12.871000     0.028260      0.310325   \n",
       "4          0.624846  0.438154  4.153846  -9.456077     0.170246      0.652462   \n",
       "...             ...       ...       ...        ...          ...           ...   \n",
       "18398      0.530733  0.763000  5.600000  -4.037933     0.260833      0.138597   \n",
       "18399      0.481000  0.938800  2.600000  -1.761400     0.054260      0.000563   \n",
       "18400      0.559615  0.709538  5.769231  -6.205846     0.346485      0.182031   \n",
       "18401      0.575929  0.693429  5.071429  -9.977714     0.058193      0.171626   \n",
       "18402      0.685000  0.707176  4.470588  -6.512118     0.335035      0.203241   \n",
       "\n",
       "       instrumentalness  liveness   valence       tempo  \n",
       "0              0.024493  0.165367  0.555083  101.395167  \n",
       "1              0.559133  0.527782  0.179465  107.622647  \n",
       "2              0.751214  0.199071  0.552786  133.895500  \n",
       "3              0.224137  0.125150  0.451400  104.354200  \n",
       "4              0.012819  0.121131  0.281138  122.121308  \n",
       "...                 ...       ...       ...         ...  \n",
       "18398          0.000002  0.286033  0.465000  109.981200  \n",
       "18399          0.699800  0.202380  0.522800  124.184800  \n",
       "18400          0.000229  0.259154  0.559154  106.885769  \n",
       "18401          0.192718  0.260207  0.417579  124.177214  \n",
       "18402          0.000007  0.199035  0.486588  121.439000  \n",
       "\n",
       "[18403 rows x 18 columns]"
      ]
     },
     "execution_count": 376,
     "metadata": {},
     "output_type": "execute_result"
    }
   ],
   "source": [
    "df"
   ]
  },
  {
   "cell_type": "code",
   "execution_count": 391,
   "metadata": {},
   "outputs": [
    {
     "data": {
      "image/png": "[encoded data removed]",
      "text/plain": [
       "<Figure size 432x288 with 1 Axes>"
      ]
     },
     "metadata": {
      "needs_background": "light"
     },
     "output_type": "display_data"
    }
   ],
   "source": [
    "sns.histplot(data=df.score)\n",
    "plt.title('Scores of Albums in Dataset')\n",
    "plt.savefig('scores_of_albums.png')"
   ]
  },
  {
   "cell_type": "code",
   "execution_count": null,
   "metadata": {},
   "outputs": [],
   "source": []
  },
  {
   "cell_type": "markdown",
   "metadata": {},
   "source": [
    "### Now we will build our rec engine"
   ]
  },
  {
   "cell_type": "code",
   "execution_count": 1,
   "metadata": {},
   "outputs": [],
   "source": [
    "#importing surprise package\n",
    "import surprise"
   ]
  },
  {
   "cell_type": "code",
   "execution_count": 410,
   "metadata": {},
   "outputs": [],
   "source": [
    "#making our data \n",
    "from surprise import Dataset, Reader\n",
    "reader= Reader(rating_scale=(1, 10))\n",
    "data = Dataset.load_from_df(df[['artist','album', 'score']], reader)"
   ]
  },
  {
   "cell_type": "code",
   "execution_count": null,
   "metadata": {},
   "outputs": [],
   "source": []
  },
  {
   "cell_type": "code",
   "execution_count": 411,
   "metadata": {},
   "outputs": [],
   "source": [
    "#TTS\n",
    "from surprise.model_selection import train_test_split\n",
    "\n",
    "trainset, testset = train_test_split(data, test_size=0.25)"
   ]
  },
  {
   "cell_type": "code",
   "execution_count": 412,
   "metadata": {},
   "outputs": [
    {
     "data": {
      "text/plain": [
       "<surprise.prediction_algorithms.matrix_factorization.SVD at 0x7fa92ad42580>"
      ]
     },
     "execution_count": 412,
     "metadata": {},
     "output_type": "execute_result"
    }
   ],
   "source": [
    "#using SVD algo and fitting train data\n",
    "from surprise import SVD, accuracy\n",
    "algo = SVD()\n",
    "algo.fit(trainset)"
   ]
  },
  {
   "cell_type": "code",
   "execution_count": 413,
   "metadata": {},
   "outputs": [],
   "source": [
    "#making predictions on test_Set\n",
    "predictions = algo.test(testset)"
   ]
  },
  {
   "cell_type": "code",
   "execution_count": 414,
   "metadata": {},
   "outputs": [
    {
     "name": "stdout",
     "output_type": "stream",
     "text": [
      "RMSE: 1.1722\n"
     ]
    },
    {
     "data": {
      "text/plain": [
       "1.1722456361896607"
      ]
     },
     "execution_count": 414,
     "metadata": {},
     "output_type": "execute_result"
    }
   ],
   "source": [
    "# getting RMSE \n",
    "from surprise import accuracy\n",
    "accuracy.rmse(predictions)"
   ]
  },
  {
   "cell_type": "code",
   "execution_count": 415,
   "metadata": {},
   "outputs": [
    {
     "data": {
      "text/plain": [
       "Prediction(uid='Lunice', iid='CCCLX', r_ui=5.7, est=7.02506883060426, details={'was_impossible': False})"
      ]
     },
     "execution_count": 415,
     "metadata": {},
     "output_type": "execute_result"
    }
   ],
   "source": [
    "#looking at predictions data\n",
    "predictions[:][:][3]"
   ]
  },
  {
   "cell_type": "code",
   "execution_count": 416,
   "metadata": {},
   "outputs": [
    {
     "data": {
      "text/plain": [
       "Prediction(uid='Rahim', iid='Laughter', r_ui=7.6, est=7.0677766906771256, details={'was_impossible': False})"
      ]
     },
     "execution_count": 416,
     "metadata": {},
     "output_type": "execute_result"
    }
   ],
   "source": [
    "predictions[:][:][1]"
   ]
  },
  {
   "cell_type": "code",
   "execution_count": 417,
   "metadata": {},
   "outputs": [],
   "source": [
    "#converting predictions into a df\n",
    "df1= pd.DataFrame(predictions[:])"
   ]
  },
  {
   "cell_type": "code",
   "execution_count": 418,
   "metadata": {},
   "outputs": [
    {
     "data": {
      "text/plain": [
       "uid                     Julia Holter\n",
       "iid                           Aviary\n",
       "r_ui                             8.2\n",
       "est                         7.446877\n",
       "details    {'was_impossible': False}\n",
       "Name: 2779, dtype: object"
      ]
     },
     "execution_count": 418,
     "metadata": {},
     "output_type": "execute_result"
    }
   ],
   "source": [
    "df1.loc[2779]"
   ]
  },
  {
   "cell_type": "code",
   "execution_count": 444,
   "metadata": {},
   "outputs": [],
   "source": [
    "#function that pulls in an album name and returns top 10 similar albums indices \n",
    "def rec_album():\n",
    "    y=df1.loc[df1['iid'] == 'Cake or Death'] #we enter our album name here\n",
    "    container=[]\n",
    "    for ele in list(df1.r_ui):\n",
    "        container.append(abs(int(y.r_ui) - ele)) #looking at album ratings difference between prediction and actual \n",
    "        #finding the most similar\n",
    "        \n",
    "    sim= pd.Series(container) #converting list of albums into series\n",
    "    sorted_sim= sim.sort_values()[0:10] #sorting series and returning top 10\n",
    "    print(sorted_sim) #printout\n",
    "    return sorted_sim #top ten sorted\n"
   ]
  },
  {
   "cell_type": "code",
   "execution_count": 445,
   "metadata": {},
   "outputs": [
    {
     "name": "stdout",
     "output_type": "stream",
     "text": [
      "2997    0.0\n",
      "168     0.0\n",
      "3016    0.0\n",
      "3480    0.0\n",
      "856     0.0\n",
      "2279    0.0\n",
      "174     0.0\n",
      "2270    0.0\n",
      "585     0.0\n",
      "2256    0.0\n",
      "dtype: float64\n"
     ]
    },
    {
     "data": {
      "text/plain": [
       "2997    0.0\n",
       "168     0.0\n",
       "3016    0.0\n",
       "3480    0.0\n",
       "856     0.0\n",
       "2279    0.0\n",
       "174     0.0\n",
       "2270    0.0\n",
       "585     0.0\n",
       "2256    0.0\n",
       "dtype: float64"
      ]
     },
     "execution_count": 445,
     "metadata": {},
     "output_type": "execute_result"
    }
   ],
   "source": [
    "# returning album indices of recommended albums to 'Beat Happening'\n",
    "rec_album()\n",
    "# we can then use df1.loc[index] to find our actual album"
   ]
  },
  {
   "cell_type": "code",
   "execution_count": 446,
   "metadata": {},
   "outputs": [
    {
     "data": {
      "text/plain": [
       "uid           Francis and the Lights\n",
       "iid                  Like A Dream EP\n",
       "r_ui                             7.0\n",
       "est                         7.025069\n",
       "details    {'was_impossible': False}\n",
       "Name: 168, dtype: object"
      ]
     },
     "execution_count": 446,
     "metadata": {},
     "output_type": "execute_result"
    }
   ],
   "source": [
    "df1.loc[168]"
   ]
  },
  {
   "cell_type": "code",
   "execution_count": null,
   "metadata": {},
   "outputs": [],
   "source": []
  }
 ],
 "metadata": {
  "kernelspec": {
   "display_name": "Python 3",
   "language": "python",
   "name": "python3"
  },
  "language_info": {
   "codemirror_mode": {
    "name": "ipython",
    "version": 3
   },
   "file_extension": ".py",
   "mimetype": "text/x-python",
   "name": "python",
   "nbconvert_exporter": "python",
   "pygments_lexer": "ipython3",
   "version": "3.8.8"
  }
 },
 "nbformat": 4,
 "nbformat_minor": 4
}
